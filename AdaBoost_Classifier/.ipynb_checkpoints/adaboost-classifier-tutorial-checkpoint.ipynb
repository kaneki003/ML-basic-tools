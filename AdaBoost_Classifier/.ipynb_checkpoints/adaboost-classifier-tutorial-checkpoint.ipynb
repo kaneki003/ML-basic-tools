{
 "cells": [
  {
   "cell_type": "markdown",
   "metadata": {},
   "source": [
    "<a class=\"anchor\" id=\"0\"></a>\n",
    "# **AdaBoost Classifier Tutorial in Python**\n",
    "\n",
    "\n",
    "Hello friends,\n",
    "\n",
    "\n",
    "\n",
    "In recent years, boosting algorithms have gained massive popularity in kaggle competitions. The winners of these competitions use boosting algorithms to achieve high performance. Boosting algorithms such as AdaBoost, Gradient Boosting, and XGBoost are widely used machine learning algorithms. In this kernel, we will discuss **AdaBoost  algorithm**.\n",
    "\n",
    "\n",
    "So, let's get started."
   ]
  },
  {
   "cell_type": "markdown",
   "metadata": {},
   "source": [
    "<a class=\"anchor\" id=\"0.1\"></a>\n",
    "# **Notebook Contents**\n",
    "\n",
    "1. [Intro to Ensemble Machine Learning](#1)\n",
    "    - [1.1. Bagging](#1.1)\n",
    "    - [1.2. Boosting](#1.2)\n",
    "    - [1.3. Stacking](#1.3)\n",
    "1. [How are base-learners classified](#2)\n",
    "1. [AdaBoost Classifier](#3)\n",
    "1. [AdaBoost algorithm intuition](#4)\n",
    "1. [Difference between AdaBoost and Gradient Boosting model](#5)\n",
    "1. [AdaBoost implementation in Python](#6)\n",
    "    - [6.1 Import libraries](#6.1)\n",
    "    - [6.2 Load dataset](#6.2)\n",
    "    - [6.3 EDA](#6.3)\n",
    "    - [6.4 Split dataset into training and test set](#6.4)\n",
    "    - [6.5 Build the AdaBoost model](#6.5)\n",
    "    - [6.6 Evaluate model](#6.6)\n",
    "    - [6.7 Further evaluation with SVC base estimator](#6.7)\n",
    "1. [Advantages and disadvantages of AdaBoost](#7)\n",
    "1. [Results and Conclusion](#8)"
   ]
  },
  {
   "cell_type": "markdown",
   "metadata": {},
   "source": [
    "# **1. Intro to Ensemble Machine Learning** <a class=\"anchor\" id=\"1\"></a>\n",
    "\n",
    "[Back to Notebook Contents](#0.1)\n",
    "\n",
    "\n",
    "- An ensemble model is a composite model which combines a series of low performing or weak classifiers with the aim of creating a strong classifier. \n",
    "\n",
    "- Here, individual classifiers vote and final prediction label returned that performs majority voting. \n",
    "\n",
    "- Now, these individual classifiers are combined according to some specific criterion to create an ensemble model.\n",
    "\n",
    "- These ensemble models offer greater accuracy than individual or base classifiers. \n",
    "\n",
    "- These models can parallelize by allocating each base learner to different mechanisms. \n",
    "\n",
    "- So, we can say that ensemble learning methods are meta-algorithms that combine several machine learning algorithms into a single predictive model to increase performance. \n",
    "\n",
    "- Ensemble models are created according to some specific criterion as stated below:-\n",
    "\n",
    "  - **Bagging** - They can be created to decrease model variance using bagging approach.\n",
    "  \n",
    "  - **Boosting** - They can be created to decrease model bias using a boosting approach. \n",
    "  \n",
    "  - **Stacking** - They can be created to improve model predictions using stacking approach.\n",
    "  \n",
    "  \n",
    "- It can be depicted with the help of following diagram."
   ]
  },
  {
   "cell_type": "markdown",
   "metadata": {},
   "source": [
    "![Ensemble Machine Learning](https://res.cloudinary.com/dyd911kmh/image/upload/f_auto,q_auto:best/v1542651255/image_1_joyt3x.png)"
   ]
  },
  {
   "cell_type": "markdown",
   "metadata": {},
   "source": [
    "### **1.1 Bagging** <a class=\"anchor\" id=\"1.1\"></a>\n",
    "\n",
    "- **Bagging** stands for **bootstrap aggregation**. \n",
    "\n",
    "- It combines multiple learners in a way to reduce the variance of estimates. \n",
    "\n",
    "- For example, random forest trains N Decision Trees where we will train N different trees on different random subsets of the data and perform voting for final prediction. \n",
    "\n",
    "- **Bagging ensembles** methods are **Random Forest** and **Extra Trees**."
   ]
  },
  {
   "cell_type": "markdown",
   "metadata": {},
   "source": [
    "### **1.2 Boosting** <a class=\"anchor\" id=\"1.2\"></a>\n",
    "\n",
    "- **Boosting** algorithms are a set of the weak classifiers to create a strong classifier. \n",
    "\n",
    "- Strong classifiers offer error rate close to 0. \n",
    "\n",
    "- Boosting algorithm can track the model who failed the accurate prediction. \n",
    "\n",
    "- Boosting algorithms are less affected by the overfitting problem. \n",
    "\n",
    "- The following three algorithms have gained massive popularity in data science competitions.\n",
    "\n",
    "  - AdaBoost (Adaptive Boosting)\n",
    "  - Gradient Tree Boosting (GBM)\n",
    "  - XGBoost\n",
    "  \n",
    "- We will discuss AdaBoost in this kernel and GBM and XGBoost in future kernels."
   ]
  },
  {
   "cell_type": "markdown",
   "metadata": {},
   "source": [
    "- Please refer to my previous kernel - [Bagging vs Boosting](https://www.kaggle.com/prashant111/bagging-vs-boosting?scriptVersionId=24194759)  for a more detailed discussion on on **Bagging** and **Boosting**."
   ]
  },
  {
   "cell_type": "markdown",
   "metadata": {},
   "source": [
    "### **1.3 Stacking** <a class=\"anchor\" id=\"1.3\"></a>\n",
    "\n",
    "- **Stacking** (or stacked generalization) is an ensemble learning technique that combines multiple base classification models predictions into a new data set. \n",
    "\n",
    "- This new data are treated as the input data for another classifier. \n",
    "\n",
    "- This classifier employed to solve this problem. Stacking is often referred to as blending."
   ]
  },
  {
   "cell_type": "markdown",
   "metadata": {},
   "source": [
    "# **2. How are base-learners classified** <a class=\"anchor\" id=\"2\"></a>\n",
    "\n",
    "[Back to Notebook Contents](#0.1)\n",
    "\n",
    "\n",
    "- Base-learners are classified into two types.\n",
    "\n",
    "\n",
    "- On the basis of the arrangement of base learners, ensemble methods can be divided into two groups. \n",
    "\n",
    "  - In parallel ensemble methods, base learners are generated in parallel for example - Random Forest. \n",
    "  \n",
    "  - In sequential ensemble methods, base learners are generated sequentially for example AdaBoost.\n",
    "  \n",
    "\n",
    "- On the basis of the type of base learners, ensemble methods can be divided into two groups.\n",
    "\n",
    "  - homogenous ensemble method uses the same type of base learner in each iteration. \n",
    "  \n",
    "  - heterogeneous ensemble method uses the different type of base learner in each iteration."
   ]
  },
  {
   "cell_type": "markdown",
   "metadata": {},
   "source": [
    "# **3. AdaBoost Classifier** <a class=\"anchor\" id=\"3\"></a>\n",
    "\n",
    "[Back to Notebook Contents](#0.1)\n",
    "\n",
    "\n",
    "- **AdaBoost or Adaptive Boosting** is one of the ensemble boosting classifier proposed by Yoav Freund and Robert Schapire in 1996. \n",
    "\n",
    "- It combines multiple weak classifiers to increase the accuracy of classifiers. \n",
    "\n",
    "- AdaBoost is an iterative ensemble method. AdaBoost classifier builds a strong classifier by combining multiple poorly performing classifiers so that you will get high accuracy strong classifier. \n",
    "\n",
    "- The basic concept behind Adaboost is to set the weights of classifiers and training the data sample in each iteration such that it ensures the accurate predictions of unusual observations. \n",
    "\n",
    "- Any machine learning algorithm can be used as base classifier if it accepts weights on the training set. \n",
    "\n",
    "- **AdaBoost** should meet two conditions:\n",
    "\n",
    "   1. The classifier should be trained interactively on various weighed training examples.\n",
    "  \n",
    "   2. In each iteration, it tries to provide an excellent fit for these examples by minimizing training error."
   ]
  },
  {
   "cell_type": "markdown",
   "metadata": {},
   "source": [
    "- To build a AdaBoost classifier, imagine that as a first base classifier we train a Decision Tree algorithm to make predictions on our training data. \n",
    "\n",
    "- Now, following the methodology of AdaBoost, the weight of the misclassified training instances is increased. \n",
    "\n",
    "- The second classifier is trained and acknowledges the updated weights and it repeats the procedure over and over again.\n",
    "\n",
    "- At the end of every model prediction we end up boosting the weights of the misclassified instances so that the next model does a better job on them, and so on.\n",
    "\n",
    "- AdaBoost adds predictors to the ensemble gradually making it better. The great disadvantage of this algorithm is that the model cannot be parallelized since each predictor can only be trained after the previous one has been trained and evaluated.\n",
    "\n",
    "- Below are the steps for performing the AdaBoost algorithm:\n",
    "\n",
    "  1. Initially, all observations are given equal weights.\n",
    "  \n",
    "  2. A model is built on a subset of data.\n",
    "  \n",
    "  3. Using this model, predictions are made on the whole dataset.\n",
    "  \n",
    "  4. Errors are calculated by comparing the predictions and actual values.\n",
    "  \n",
    "  5. While creating the next model, higher weights are given to the data points which were predicted incorrectly.\n",
    "  \n",
    "  6. Weights can be determined using the error value. For instance,the higher the error the more is the weight assigned to the observation.\n",
    "  \n",
    "  7. This process is repeated until the error function does not change, or the maximum limit of the number of estimators is reached."
   ]
  },
  {
   "cell_type": "markdown",
   "metadata": {},
   "source": [
    "# **4. AdaBoost algorithm intuition** <a class=\"anchor\" id=\"4\"></a>\n",
    "\n",
    "[Back to Notebook Contents](#0.1)\n",
    "\n",
    "\n",
    "- It works in the following steps:\n",
    "\n",
    "   1. Initially, Adaboost selects a training subset randomly.\n",
    "  \n",
    "   2. It iteratively trains the AdaBoost machine learning model by selecting the training set based on the accurate prediction of the last training.\n",
    "  \n",
    "   3. It assigns the higher weight to wrong classified observations so that in the next iteration these observations will get the high probability for classification.\n",
    "  \n",
    "   4. Also, It assigns the weight to the trained classifier in each iteration according to the accuracy of the classifier. The more accurate classifier will get high weight.\n",
    "  \n",
    "   5. This process iterate until the complete training data fits without any error or until reached to the specified maximum number of estimators.\n",
    "  \n",
    "   6. To classify, perform a \"vote\" across all of the learning algorithms you built.\n",
    "  \n",
    "  \n",
    "- The intuition can be depicted with the following diagram:"
   ]
  },
  {
   "cell_type": "markdown",
   "metadata": {},
   "source": [
    "![AdaBoost Classifier](https://res.cloudinary.com/dyd911kmh/image/upload/f_auto,q_auto:best/v1542651255/image_3_nwa5zf.png)"
   ]
  },
  {
   "cell_type": "markdown",
   "metadata": {},
   "source": [
    "# **5. Difference between AdaBoost and Gradient Boosting** <a class=\"anchor\" id=\"5\"></a>\n",
    "\n",
    "\n",
    "[Back to Notebook Contents](#0.1)\n",
    "\n",
    "\n",
    "- **AdaBoost** stands for **Adaptive Boosting**. It works on sequential ensemble machine learning technique. The general idea of boosting algorithms is to try predictors sequentially, where each subsequent model attempts to fix the errors of its predecessor.\n",
    "\n",
    "\n",
    "- **GBM or Gradient Boosting** also works on sequential model. Gradient boosting calculates the gradient (derivative) of the Loss Function with respect to the prediction (instead of the features). Gradient boosting increases the accuracy by minimizing the Loss Function (error which is difference of actual and predicted value) and having this loss as target for the next iteration.\n",
    "\n",
    "\n",
    "- Gradient boosting algorithm builds first weak learner and calculates the Loss Function. It then builds a second learner to predict the loss after the first step. The step continues for third learner and then for fourth learner and so on until a certain threshold is reached.\n",
    "\n",
    "\n",
    "- So, the question arises in mind that how AdaBoost is different than Gradient Boosting algorithm since both of them works on Boosting technique.\n",
    "\n",
    "\n",
    "- Both AdaBoost and Gradient Boosting build weak learners in a sequential fashion. Originally, AdaBoost was designed in such a way that at every step the sample distribution was adapted to put more weight on misclassified samples and less weight on correctly classified samples. The final prediction is a weighted average of all the weak learners, where more weight is placed on stronger learners.\n",
    "\n",
    "\n",
    "- Later, it was discovered that AdaBoost can also be expressed as in terms of the more general framework of additive models with a particular loss function (the exponential loss).\n",
    "\n",
    "\n",
    "- So, the main differences between AdaBoost and GBM are as follows:-\n",
    "\n",
    "\n",
    "  1. The main difference therefore is that Gradient Boosting is a generic algorithm to find approximate solutions to the additive modeling problem, while AdaBoost can be seen as a special case with a particular loss function (Exponential loss function). Hence, gradient boosting is much more flexible.\n",
    "\n",
    "\n",
    "  2. AdaBoost can be interepted from a much more intuitive perspective and can be implemented without the reference to gradients by reweighting the training samples based on classifications from previous learners.\n",
    "\n",
    "\n",
    "  3. In Adaboost, shortcomings are identified by high-weight data points while in Gradient Boosting, shortcomings of existing weak learners are identified by gradients.\n",
    "\n",
    "\n",
    "  4. Adaboost is more about ‘voting weights’ and Gradient boosting is more about ‘adding gradient optimization’. \n",
    "\n",
    "\n",
    "  5. Adaboost increases the accuracy by giving more weightage to the target which is misclassified by the model. At each iteration, Adaptive boosting algorithm changes the sample distribution by modifying the weights attached to each of the instances. It increases the weights of the wrongly predicted instances and decreases the ones of the correctly predicted instances."
   ]
  },
  {
   "cell_type": "markdown",
   "metadata": {},
   "source": [
    "# **6. AdaBoost implementation in Python** <a class=\"anchor\" id=\"6\"></a>\n",
    "\n",
    "[Back to Notebook Contents](#0.1)\n",
    "\n",
    "\n",
    "- Now, we come to the implementation part of AdaBoost algorithm in Python.\n",
    "\n",
    "- The first step is to load the required libraries."
   ]
  },
  {
   "cell_type": "markdown",
   "metadata": {},
   "source": [
    "### 6.1 Import libraries <a class=\"anchor\" id=\"6.1\"></a>"
   ]
  },
  {
   "cell_type": "code",
   "execution_count": 1,
   "metadata": {
    "_cell_guid": "b1076dfc-b9ad-4769-8c92-a6c4dae69d19",
    "_uuid": "8f2839f25d086af736a60e9eeb907d3b93b6e0e5"
   },
   "outputs": [],
   "source": [
    "import numpy as np\n",
    "import pandas as pd "
   ]
  },
  {
   "cell_type": "markdown",
   "metadata": {},
   "source": [
    "### 6.2 Load dataset <a class=\"anchor\" id=\"6.2\"></a>"
   ]
  },
  {
   "cell_type": "code",
   "execution_count": 2,
   "metadata": {},
   "outputs": [],
   "source": [
    "iris = pd.read_csv('Iris.csv')\n"
   ]
  },
  {
   "cell_type": "markdown",
   "metadata": {},
   "source": [
    "### 6.3 EDA(Exploratory Data Analysis) <a class=\"anchor\" id=\"6.3\"></a>"
   ]
  },
  {
   "cell_type": "markdown",
   "metadata": {},
   "source": [
    "### Preview dataset"
   ]
  },
  {
   "cell_type": "code",
   "execution_count": 4,
   "metadata": {},
   "outputs": [
    {
     "data": {
      "text/html": [
       "<div>\n",
       "<style scoped>\n",
       "    .dataframe tbody tr th:only-of-type {\n",
       "        vertical-align: middle;\n",
       "    }\n",
       "\n",
       "    .dataframe tbody tr th {\n",
       "        vertical-align: top;\n",
       "    }\n",
       "\n",
       "    .dataframe thead th {\n",
       "        text-align: right;\n",
       "    }\n",
       "</style>\n",
       "<table border=\"1\" class=\"dataframe\">\n",
       "  <thead>\n",
       "    <tr style=\"text-align: right;\">\n",
       "      <th></th>\n",
       "      <th>Id</th>\n",
       "      <th>SepalLengthCm</th>\n",
       "      <th>SepalWidthCm</th>\n",
       "      <th>PetalLengthCm</th>\n",
       "      <th>PetalWidthCm</th>\n",
       "      <th>Species</th>\n",
       "    </tr>\n",
       "  </thead>\n",
       "  <tbody>\n",
       "    <tr>\n",
       "      <th>0</th>\n",
       "      <td>1</td>\n",
       "      <td>5.1</td>\n",
       "      <td>3.5</td>\n",
       "      <td>1.4</td>\n",
       "      <td>0.2</td>\n",
       "      <td>Iris-setosa</td>\n",
       "    </tr>\n",
       "    <tr>\n",
       "      <th>1</th>\n",
       "      <td>2</td>\n",
       "      <td>4.9</td>\n",
       "      <td>3.0</td>\n",
       "      <td>1.4</td>\n",
       "      <td>0.2</td>\n",
       "      <td>Iris-setosa</td>\n",
       "    </tr>\n",
       "    <tr>\n",
       "      <th>2</th>\n",
       "      <td>3</td>\n",
       "      <td>4.7</td>\n",
       "      <td>3.2</td>\n",
       "      <td>1.3</td>\n",
       "      <td>0.2</td>\n",
       "      <td>Iris-setosa</td>\n",
       "    </tr>\n",
       "    <tr>\n",
       "      <th>3</th>\n",
       "      <td>4</td>\n",
       "      <td>4.6</td>\n",
       "      <td>3.1</td>\n",
       "      <td>1.5</td>\n",
       "      <td>0.2</td>\n",
       "      <td>Iris-setosa</td>\n",
       "    </tr>\n",
       "    <tr>\n",
       "      <th>4</th>\n",
       "      <td>5</td>\n",
       "      <td>5.0</td>\n",
       "      <td>3.6</td>\n",
       "      <td>1.4</td>\n",
       "      <td>0.2</td>\n",
       "      <td>Iris-setosa</td>\n",
       "    </tr>\n",
       "  </tbody>\n",
       "</table>\n",
       "</div>"
      ],
      "text/plain": [
       "   Id  SepalLengthCm  SepalWidthCm  PetalLengthCm  PetalWidthCm      Species\n",
       "0   1            5.1           3.5            1.4           0.2  Iris-setosa\n",
       "1   2            4.9           3.0            1.4           0.2  Iris-setosa\n",
       "2   3            4.7           3.2            1.3           0.2  Iris-setosa\n",
       "3   4            4.6           3.1            1.5           0.2  Iris-setosa\n",
       "4   5            5.0           3.6            1.4           0.2  Iris-setosa"
      ]
     },
     "execution_count": 4,
     "metadata": {},
     "output_type": "execute_result"
    }
   ],
   "source": [
    "iris.head()"
   ]
  },
  {
   "cell_type": "markdown",
   "metadata": {},
   "source": [
    "### View summary of dataframe"
   ]
  },
  {
   "cell_type": "code",
   "execution_count": 5,
   "metadata": {},
   "outputs": [
    {
     "name": "stdout",
     "output_type": "stream",
     "text": [
      "<class 'pandas.core.frame.DataFrame'>\n",
      "RangeIndex: 150 entries, 0 to 149\n",
      "Data columns (total 6 columns):\n",
      " #   Column         Non-Null Count  Dtype  \n",
      "---  ------         --------------  -----  \n",
      " 0   Id             150 non-null    int64  \n",
      " 1   SepalLengthCm  150 non-null    float64\n",
      " 2   SepalWidthCm   150 non-null    float64\n",
      " 3   PetalLengthCm  150 non-null    float64\n",
      " 4   PetalWidthCm   150 non-null    float64\n",
      " 5   Species        150 non-null    object \n",
      "dtypes: float64(4), int64(1), object(1)\n",
      "memory usage: 7.2+ KB\n"
     ]
    }
   ],
   "source": [
    "iris.info()"
   ]
  },
  {
   "cell_type": "markdown",
   "metadata": {},
   "source": [
    "We can see that there are no missing values in the dataset."
   ]
  },
  {
   "cell_type": "markdown",
   "metadata": {},
   "source": [
    "### Declare feature vector and target variable"
   ]
  },
  {
   "cell_type": "code",
   "execution_count": 6,
   "metadata": {},
   "outputs": [
    {
     "data": {
      "text/html": [
       "<div>\n",
       "<style scoped>\n",
       "    .dataframe tbody tr th:only-of-type {\n",
       "        vertical-align: middle;\n",
       "    }\n",
       "\n",
       "    .dataframe tbody tr th {\n",
       "        vertical-align: top;\n",
       "    }\n",
       "\n",
       "    .dataframe thead th {\n",
       "        text-align: right;\n",
       "    }\n",
       "</style>\n",
       "<table border=\"1\" class=\"dataframe\">\n",
       "  <thead>\n",
       "    <tr style=\"text-align: right;\">\n",
       "      <th></th>\n",
       "      <th>SepalLengthCm</th>\n",
       "      <th>SepalWidthCm</th>\n",
       "      <th>PetalLengthCm</th>\n",
       "      <th>PetalWidthCm</th>\n",
       "    </tr>\n",
       "  </thead>\n",
       "  <tbody>\n",
       "    <tr>\n",
       "      <th>0</th>\n",
       "      <td>5.1</td>\n",
       "      <td>3.5</td>\n",
       "      <td>1.4</td>\n",
       "      <td>0.2</td>\n",
       "    </tr>\n",
       "    <tr>\n",
       "      <th>1</th>\n",
       "      <td>4.9</td>\n",
       "      <td>3.0</td>\n",
       "      <td>1.4</td>\n",
       "      <td>0.2</td>\n",
       "    </tr>\n",
       "    <tr>\n",
       "      <th>2</th>\n",
       "      <td>4.7</td>\n",
       "      <td>3.2</td>\n",
       "      <td>1.3</td>\n",
       "      <td>0.2</td>\n",
       "    </tr>\n",
       "    <tr>\n",
       "      <th>3</th>\n",
       "      <td>4.6</td>\n",
       "      <td>3.1</td>\n",
       "      <td>1.5</td>\n",
       "      <td>0.2</td>\n",
       "    </tr>\n",
       "    <tr>\n",
       "      <th>4</th>\n",
       "      <td>5.0</td>\n",
       "      <td>3.6</td>\n",
       "      <td>1.4</td>\n",
       "      <td>0.2</td>\n",
       "    </tr>\n",
       "  </tbody>\n",
       "</table>\n",
       "</div>"
      ],
      "text/plain": [
       "   SepalLengthCm  SepalWidthCm  PetalLengthCm  PetalWidthCm\n",
       "0            5.1           3.5            1.4           0.2\n",
       "1            4.9           3.0            1.4           0.2\n",
       "2            4.7           3.2            1.3           0.2\n",
       "3            4.6           3.1            1.5           0.2\n",
       "4            5.0           3.6            1.4           0.2"
      ]
     },
     "execution_count": 6,
     "metadata": {},
     "output_type": "execute_result"
    }
   ],
   "source": [
    "X = iris[['SepalLengthCm','SepalWidthCm','PetalLengthCm','PetalWidthCm']]\n",
    "\n",
    "X.head()"
   ]
  },
  {
   "cell_type": "code",
   "execution_count": 7,
   "metadata": {},
   "outputs": [
    {
     "data": {
      "text/plain": [
       "0    Iris-setosa\n",
       "1    Iris-setosa\n",
       "2    Iris-setosa\n",
       "3    Iris-setosa\n",
       "4    Iris-setosa\n",
       "Name: Species, dtype: object"
      ]
     },
     "execution_count": 7,
     "metadata": {},
     "output_type": "execute_result"
    }
   ],
   "source": [
    "y = iris['Species']\n",
    "\n",
    "y.head()"
   ]
  },
  {
   "cell_type": "code",
   "execution_count": 8,
   "metadata": {},
   "outputs": [],
   "source": [
    "from sklearn.preprocessing import LabelEncoder\n",
    "\n",
    "le=LabelEncoder()\n",
    "\n",
    "y=le.fit_transform(y)"
   ]
  },
  {
   "cell_type": "markdown",
   "metadata": {},
   "source": [
    "### 6.4 Split dataset into training set and test set <a class=\"anchor\" id=\"6.4\"></a>"
   ]
  },
  {
   "cell_type": "code",
   "execution_count": 9,
   "metadata": {},
   "outputs": [],
   "source": [
    "# Import train_test_split function\n",
    "from sklearn.model_selection import train_test_split\n",
    "\n",
    "# Split dataset into training set and test set\n",
    "X_train, X_test, y_train, y_test = train_test_split(X, y, test_size=0.3)"
   ]
  },
  {
   "cell_type": "markdown",
   "metadata": {},
   "source": [
    "### 6.5 Build the AdaBoost model <a class=\"anchor\" id=\"6.5\"></a>"
   ]
  },
  {
   "cell_type": "code",
   "execution_count": 10,
   "metadata": {},
   "outputs": [
    {
     "name": "stderr",
     "output_type": "stream",
     "text": [
      "/home/kaneki003/anaconda3/lib/python3.11/site-packages/sklearn/ensemble/_weight_boosting.py:519: FutureWarning: The SAMME.R algorithm (the default) is deprecated and will be removed in 1.6. Use the SAMME algorithm to circumvent this warning.\n",
      "  warnings.warn(\n"
     ]
    }
   ],
   "source": [
    "# Import the AdaBoost classifier\n",
    "from sklearn.ensemble import AdaBoostClassifier\n",
    "\n",
    "\n",
    "# Create adaboost classifer object\n",
    "abc = AdaBoostClassifier(n_estimators=50, learning_rate=1, random_state=0)\n",
    "\n",
    "# Train Adaboost Classifer\n",
    "model1 = abc.fit(X_train, y_train)\n",
    "\n",
    "\n",
    "#Predict the response for test dataset\n",
    "y_pred = model1.predict(X_test)"
   ]
  },
  {
   "cell_type": "markdown",
   "metadata": {},
   "source": [
    "### Create Adaboost Classifier\n",
    "\n",
    "- The most important parameters are `base_estimator`, `n_estimators` and `learning_rate`.\n",
    "\n",
    "- **base_estimator** is the learning algorithm to use to train the weak models. This will almost always not needed to be changed because by far the most common learner to use with AdaBoost is a decision tree – this parameter’s default argument.\n",
    "\n",
    "- **n_estimators** is the number of models to iteratively train.\n",
    "\n",
    "- **learning_rate** is the contribution of each model to the weights and defaults to 1. Reducing the learning rate will mean the weights will be increased or decreased to a small degree, forcing the model train slower (but sometimes resulting in better performance scores).\n",
    "\n",
    "- **loss** is exclusive to AdaBoostRegressor and sets the loss function to use when updating weights. This defaults to a linear loss function however can be changed to square or exponential."
   ]
  },
  {
   "cell_type": "markdown",
   "metadata": {},
   "source": [
    "### 6.6 Evaluate Model <a class=\"anchor\" id=\"6.6\"></a>\n",
    "\n",
    "Let's estimate, how accurately the classifier or model can predict the type of cultivars."
   ]
  },
  {
   "cell_type": "code",
   "execution_count": 11,
   "metadata": {},
   "outputs": [
    {
     "name": "stdout",
     "output_type": "stream",
     "text": [
      "AdaBoost Classifier Model Accuracy: 0.9777777777777777\n"
     ]
    }
   ],
   "source": [
    "#import scikit-learn metrics module for accuracy calculation\n",
    "from sklearn.metrics import accuracy_score\n",
    "\n",
    "\n",
    "# calculate and print model accuracy\n",
    "print(\"AdaBoost Classifier Model Accuracy:\", accuracy_score(y_test, y_pred))"
   ]
  },
  {
   "cell_type": "markdown",
   "metadata": {},
   "source": [
    "### 6.7 Further evaluation with SVC base estimator <a class=\"anchor\" id=\"6.7\"></a>\n",
    "\n",
    "\n",
    "- For further evaluation, we will use SVC as a base estimator as follows:"
   ]
  },
  {
   "cell_type": "code",
   "execution_count": 15,
   "metadata": {},
   "outputs": [
    {
     "name": "stdout",
     "output_type": "stream",
     "text": [
      "Model Accuracy with SVC Base Estimator: 0.9777777777777777\n"
     ]
    }
   ],
   "source": [
    "# load required classifer\n",
    "from sklearn.ensemble import AdaBoostClassifier\n",
    "\n",
    "\n",
    "# import Support Vector Classifier\n",
    "from sklearn.svm import SVC\n",
    "\n",
    "\n",
    "# import scikit-learn metrics module for accuracy calculation\n",
    "from sklearn.metrics import accuracy_score\n",
    "svc=SVC(probability=True, kernel='linear')\n",
    "\n",
    "\n",
    "# train adaboost classifer\n",
    "model2 = svc.fit(X_train, y_train)\n",
    "\n",
    "\n",
    "# predict the response for test dataset\n",
    "y_pred = model2.predict(X_test)\n",
    "\n",
    "\n",
    "# calculate and print model accuracy\n",
    "print(\"Model Accuracy with SVC Base Estimator:\",accuracy_score(y_test, y_pred))\n"
   ]
  },
  {
   "cell_type": "markdown",
   "metadata": {},
   "source": [
    "# **7. Advantages and disadvantages of AdaBoost** <a class=\"anchor\" id=\"7\"></a>\n",
    "\n",
    "[Back to Notebook Contents](#0.1)\n",
    "\n",
    "\n",
    "- The advantages are as follows:\n",
    "\n",
    "   1. AdaBoost is easy to implement. \n",
    "  \n",
    "   2. It iteratively corrects the mistakes of the weak classifier and improves accuracy by combining weak learners. \n",
    "  \n",
    "   3. We can use many base classifiers with AdaBoost. \n",
    "  \n",
    "   4. AdaBoost is not prone to overfitting. "
   ]
  },
  {
   "cell_type": "markdown",
   "metadata": {},
   "source": [
    "- The disadvantages are as follows:\n",
    "\n",
    "   1. AdaBoost is sensitive to noise data. \n",
    "  \n",
    "   2. It is highly affected by outliers because it tries to fit each point perfectly. \n",
    "  \n",
    "   3. AdaBoost is slower compared to XGBoost."
   ]
  },
  {
   "cell_type": "markdown",
   "metadata": {},
   "source": [
    "# **8. Results and Conclusion** <a class=\"anchor\" id=\"8\"></a>\n",
    "\n",
    "[Back to Notebook Contents](#0.1)\n",
    "\n",
    "\n",
    "- In this kernel, we have discussed AdaBoost classifier.\n",
    "\n",
    "- We have discussed how the base-learners are classified.\n",
    "\n",
    "- Then, we move on to discuss the intuition behind AdaBoost classifier.\n",
    "\n",
    "- We have also discuss the differences between AdaBoost classifier and GBM.\n",
    "\n",
    "- Then, we present the implementation of AdaBoost classifier using iris dataset.\n",
    "\n",
    "- Lastly, we have discussed the advantages and disadvantages of AdaBoost classifier."
   ]
  },
  {
   "cell_type": "markdown",
   "metadata": {},
   "source": [
    "So, now we will come to the end of this kernel.\n",
    "\n",
    "I hope you find this kernel useful and enjoyable.\n",
    "\n",
    "Your comments and feedback are most welcome.\n",
    "\n",
    "Thank you\n"
   ]
  },
  {
   "cell_type": "markdown",
   "metadata": {},
   "source": [
    "[Go to Top](#0)"
   ]
  }
 ],
 "metadata": {
  "kernelspec": {
   "display_name": "Python 3 (ipykernel)",
   "language": "python",
   "name": "python3"
  },
  "language_info": {
   "codemirror_mode": {
    "name": "ipython",
    "version": 3
   },
   "file_extension": ".py",
   "mimetype": "text/x-python",
   "name": "python",
   "nbconvert_exporter": "python",
   "pygments_lexer": "ipython3",
   "version": "3.11.5"
  }
 },
 "nbformat": 4,
 "nbformat_minor": 4
}
