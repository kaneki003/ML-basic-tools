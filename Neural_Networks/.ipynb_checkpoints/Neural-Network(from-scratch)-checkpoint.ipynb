{
 "cells": [
  {
   "cell_type": "code",
   "execution_count": 1,
   "metadata": {},
   "outputs": [],
   "source": [
    "import numpy as np\n",
    "import matplotlib.pyplot as plt\n",
    "import pandas as pd"
   ]
  },
  {
   "cell_type": "markdown",
   "metadata": {},
   "source": [
    "# Generating Random Data Set For model"
   ]
  },
  {
   "cell_type": "code",
   "execution_count": 3,
   "metadata": {},
   "outputs": [],
   "source": [
    "X = np.vstack([(np.random.rand(10, 2)*5),(np.random.rand(10, 2)*10)])\n",
    "Y = np.hstack([[0]*10 , [1]*10])\n",
    "dataset = pd.DataFrame(X,columns=(\"X1\",\"X2\"))\n",
    "dataset[\"Y\"] =Y"
   ]
  },
  {
   "cell_type": "markdown",
   "metadata": {},
   "source": [
    "# Random DataSet Generated"
   ]
  },
  {
   "cell_type": "code",
   "execution_count": 4,
   "metadata": {},
   "outputs": [
    {
     "data": {
      "text/html": [
       "<div>\n",
       "<style scoped>\n",
       "    .dataframe tbody tr th:only-of-type {\n",
       "        vertical-align: middle;\n",
       "    }\n",
       "\n",
       "    .dataframe tbody tr th {\n",
       "        vertical-align: top;\n",
       "    }\n",
       "\n",
       "    .dataframe thead th {\n",
       "        text-align: right;\n",
       "    }\n",
       "</style>\n",
       "<table border=\"1\" class=\"dataframe\">\n",
       "  <thead>\n",
       "    <tr style=\"text-align: right;\">\n",
       "      <th></th>\n",
       "      <th>X1</th>\n",
       "      <th>X2</th>\n",
       "      <th>Y</th>\n",
       "    </tr>\n",
       "  </thead>\n",
       "  <tbody>\n",
       "    <tr>\n",
       "      <th>0</th>\n",
       "      <td>0.678719</td>\n",
       "      <td>1.333578</td>\n",
       "      <td>0</td>\n",
       "    </tr>\n",
       "    <tr>\n",
       "      <th>1</th>\n",
       "      <td>2.286068</td>\n",
       "      <td>2.676501</td>\n",
       "      <td>0</td>\n",
       "    </tr>\n",
       "    <tr>\n",
       "      <th>2</th>\n",
       "      <td>0.023718</td>\n",
       "      <td>1.239898</td>\n",
       "      <td>0</td>\n",
       "    </tr>\n",
       "    <tr>\n",
       "      <th>3</th>\n",
       "      <td>0.475330</td>\n",
       "      <td>1.565592</td>\n",
       "      <td>0</td>\n",
       "    </tr>\n",
       "    <tr>\n",
       "      <th>4</th>\n",
       "      <td>4.191342</td>\n",
       "      <td>1.955340</td>\n",
       "      <td>0</td>\n",
       "    </tr>\n",
       "    <tr>\n",
       "      <th>5</th>\n",
       "      <td>2.506555</td>\n",
       "      <td>3.968373</td>\n",
       "      <td>0</td>\n",
       "    </tr>\n",
       "    <tr>\n",
       "      <th>6</th>\n",
       "      <td>1.883489</td>\n",
       "      <td>0.307988</td>\n",
       "      <td>0</td>\n",
       "    </tr>\n",
       "    <tr>\n",
       "      <th>7</th>\n",
       "      <td>1.741408</td>\n",
       "      <td>0.851470</td>\n",
       "      <td>0</td>\n",
       "    </tr>\n",
       "    <tr>\n",
       "      <th>8</th>\n",
       "      <td>0.227702</td>\n",
       "      <td>2.960431</td>\n",
       "      <td>0</td>\n",
       "    </tr>\n",
       "    <tr>\n",
       "      <th>9</th>\n",
       "      <td>3.916750</td>\n",
       "      <td>3.936499</td>\n",
       "      <td>0</td>\n",
       "    </tr>\n",
       "    <tr>\n",
       "      <th>10</th>\n",
       "      <td>9.136544</td>\n",
       "      <td>1.260276</td>\n",
       "      <td>1</td>\n",
       "    </tr>\n",
       "    <tr>\n",
       "      <th>11</th>\n",
       "      <td>9.194715</td>\n",
       "      <td>8.751552</td>\n",
       "      <td>1</td>\n",
       "    </tr>\n",
       "    <tr>\n",
       "      <th>12</th>\n",
       "      <td>1.350512</td>\n",
       "      <td>6.278816</td>\n",
       "      <td>1</td>\n",
       "    </tr>\n",
       "    <tr>\n",
       "      <th>13</th>\n",
       "      <td>9.848412</td>\n",
       "      <td>4.732525</td>\n",
       "      <td>1</td>\n",
       "    </tr>\n",
       "    <tr>\n",
       "      <th>14</th>\n",
       "      <td>0.646847</td>\n",
       "      <td>6.455148</td>\n",
       "      <td>1</td>\n",
       "    </tr>\n",
       "    <tr>\n",
       "      <th>15</th>\n",
       "      <td>2.687706</td>\n",
       "      <td>1.499123</td>\n",
       "      <td>1</td>\n",
       "    </tr>\n",
       "    <tr>\n",
       "      <th>16</th>\n",
       "      <td>5.824345</td>\n",
       "      <td>7.471700</td>\n",
       "      <td>1</td>\n",
       "    </tr>\n",
       "    <tr>\n",
       "      <th>17</th>\n",
       "      <td>1.495090</td>\n",
       "      <td>2.646066</td>\n",
       "      <td>1</td>\n",
       "    </tr>\n",
       "    <tr>\n",
       "      <th>18</th>\n",
       "      <td>9.929090</td>\n",
       "      <td>7.093059</td>\n",
       "      <td>1</td>\n",
       "    </tr>\n",
       "    <tr>\n",
       "      <th>19</th>\n",
       "      <td>7.548314</td>\n",
       "      <td>0.935860</td>\n",
       "      <td>1</td>\n",
       "    </tr>\n",
       "  </tbody>\n",
       "</table>\n",
       "</div>"
      ],
      "text/plain": [
       "          X1        X2  Y\n",
       "0   0.678719  1.333578  0\n",
       "1   2.286068  2.676501  0\n",
       "2   0.023718  1.239898  0\n",
       "3   0.475330  1.565592  0\n",
       "4   4.191342  1.955340  0\n",
       "5   2.506555  3.968373  0\n",
       "6   1.883489  0.307988  0\n",
       "7   1.741408  0.851470  0\n",
       "8   0.227702  2.960431  0\n",
       "9   3.916750  3.936499  0\n",
       "10  9.136544  1.260276  1\n",
       "11  9.194715  8.751552  1\n",
       "12  1.350512  6.278816  1\n",
       "13  9.848412  4.732525  1\n",
       "14  0.646847  6.455148  1\n",
       "15  2.687706  1.499123  1\n",
       "16  5.824345  7.471700  1\n",
       "17  1.495090  2.646066  1\n",
       "18  9.929090  7.093059  1\n",
       "19  7.548314  0.935860  1"
      ]
     },
     "execution_count": 4,
     "metadata": {},
     "output_type": "execute_result"
    }
   ],
   "source": [
    "dataset"
   ]
  },
  {
   "cell_type": "markdown",
   "metadata": {},
   "source": [
    "# Ploting dataset values "
   ]
  },
  {
   "cell_type": "code",
   "execution_count": 5,
   "metadata": {},
   "outputs": [
    {
     "data": {
      "text/plain": [
       "<matplotlib.legend.Legend at 0x7538d3bc0ad0>"
      ]
     },
     "execution_count": 5,
     "metadata": {},
     "output_type": "execute_result"
    },
    {
     "data": {
      "image/png": "[encoded data removed]",
      "text/plain": [
       "<Figure size 640x480 with 1 Axes>"
      ]
     },
     "metadata": {},
     "output_type": "display_data"
    }
   ],
   "source": [
    "plt.plot(dataset,label='Inline label')\n",
    "plt.legend([\"X2\",\"X1\",\"Y\"])"
   ]
  },
  {
   "cell_type": "markdown",
   "metadata": {},
   "source": [
    "# Converting Target variable to vector of number of classes"
   ]
  },
  {
   "cell_type": "code",
   "execution_count": 6,
   "metadata": {},
   "outputs": [],
   "source": [
    "Z = np.zeros((20, 2))\n",
    "for i in range(20):\n",
    "    Z[i, Y[i]] = 1"
   ]
  },
  {
   "cell_type": "code",
   "execution_count": 7,
   "metadata": {},
   "outputs": [
    {
     "data": {
      "text/plain": [
       "(20, 2)"
      ]
     },
     "execution_count": 7,
     "metadata": {},
     "output_type": "execute_result"
    }
   ],
   "source": [
    "X.shape"
   ]
  },
  {
   "cell_type": "markdown",
   "metadata": {},
   "source": [
    "# Initiating Random Weights and Bias"
   ]
  },
  {
   "cell_type": "code",
   "execution_count": 8,
   "metadata": {},
   "outputs": [],
   "source": [
    "Wi_1 = np.random.randn(3, 2)\n",
    "Bi_1 = np.random.randn(3)\n",
    "Wi_2 = np.random.randn(3, 2)\n",
    "Bi_2 = np.random.randn(2)"
   ]
  },
  {
   "cell_type": "code",
   "execution_count": 9,
   "metadata": {},
   "outputs": [
    {
     "data": {
      "text/plain": [
       "array([[-1.29292928, -0.50513935],\n",
       "       [-1.48291061, -0.03202861],\n",
       "       [-0.60089617, -1.33057643]])"
      ]
     },
     "execution_count": 9,
     "metadata": {},
     "output_type": "execute_result"
    }
   ],
   "source": [
    "Wi_1"
   ]
  },
  {
   "cell_type": "code",
   "execution_count": 10,
   "metadata": {},
   "outputs": [
    {
     "data": {
      "text/plain": [
       "array([-0.94164461,  2.97033178])"
      ]
     },
     "execution_count": 10,
     "metadata": {},
     "output_type": "execute_result"
    }
   ],
   "source": [
    "Bi_2"
   ]
  },
  {
   "cell_type": "code",
   "execution_count": 11,
   "metadata": {},
   "outputs": [
    {
     "data": {
      "text/plain": [
       "array([[-0.16176739, -2.09481687],\n",
       "       [ 1.01863396, -0.38077766],\n",
       "       [ 0.25012667, -0.45703228]])"
      ]
     },
     "execution_count": 11,
     "metadata": {},
     "output_type": "execute_result"
    }
   ],
   "source": [
    "Wi_2"
   ]
  },
  {
   "cell_type": "code",
   "execution_count": 12,
   "metadata": {},
   "outputs": [
    {
     "data": {
      "text/plain": [
       "array([-0.94164461,  2.97033178])"
      ]
     },
     "execution_count": 12,
     "metadata": {},
     "output_type": "execute_result"
    }
   ],
   "source": [
    "Bi_2"
   ]
  },
  {
   "cell_type": "code",
   "execution_count": 13,
   "metadata": {},
   "outputs": [
    {
     "data": {
      "text/plain": [
       "array([[-1.29292928, -1.48291061, -0.60089617],\n",
       "       [-0.50513935, -0.03202861, -1.33057643]])"
      ]
     },
     "execution_count": 13,
     "metadata": {},
     "output_type": "execute_result"
    }
   ],
   "source": [
    "Wi_1.T"
   ]
  },
  {
   "cell_type": "code",
   "execution_count": 14,
   "metadata": {},
   "outputs": [
    {
     "data": {
      "text/plain": [
       "array([[0.67871885, 1.33357794],\n",
       "       [2.28606804, 2.67650121],\n",
       "       [0.023718  , 1.2398983 ],\n",
       "       [0.47532979, 1.56559198],\n",
       "       [4.19134169, 1.9553403 ],\n",
       "       [2.50655517, 3.96837289],\n",
       "       [1.88348941, 0.30798776],\n",
       "       [1.7414075 , 0.85147038],\n",
       "       [0.22770169, 2.9604307 ],\n",
       "       [3.91675026, 3.93649947],\n",
       "       [9.13654385, 1.26027632],\n",
       "       [9.19471477, 8.75155184],\n",
       "       [1.35051212, 6.27881583],\n",
       "       [9.84841249, 4.73252498],\n",
       "       [0.64684744, 6.45514757],\n",
       "       [2.6877057 , 1.49912284],\n",
       "       [5.8243454 , 7.47169971],\n",
       "       [1.49508977, 2.64606594],\n",
       "       [9.92908961, 7.09305896],\n",
       "       [7.54831427, 0.9358598 ]])"
      ]
     },
     "execution_count": 14,
     "metadata": {},
     "output_type": "execute_result"
    }
   ],
   "source": [
    "X"
   ]
  },
  {
   "cell_type": "code",
   "execution_count": 15,
   "metadata": {
    "scrolled": true
   },
   "outputs": [
    {
     "data": {
      "text/plain": [
       "(20, 2)"
      ]
     },
     "execution_count": 15,
     "metadata": {},
     "output_type": "execute_result"
    }
   ],
   "source": [
    "X.shape"
   ]
  },
  {
   "cell_type": "code",
   "execution_count": 16,
   "metadata": {},
   "outputs": [
    {
     "data": {
      "text/plain": [
       "array([[ -1.55117817,  -1.04919204,  -2.18226693],\n",
       "       [ -4.30773039,  -3.47575916,  -4.93497896],\n",
       "       [ -0.65698712,  -0.07488389,  -1.66403151],\n",
       "       [ -1.40540992,  -0.75501533,  -2.36876364],\n",
       "       [ -6.40682772,  -6.27801188,  -5.12029088],\n",
       "       [ -5.24537988,  -3.84409872,  -6.78640284],\n",
       "       [ -2.59079534,  -2.80291085,  -1.54158283],\n",
       "       [ -2.68162794,  -2.60962307,  -2.17935152],\n",
       "       [ -1.78983223,  -0.43247974,  -4.0759044 ],\n",
       "       [ -7.05256187,  -5.93427111,  -7.59137364],\n",
       "       [-12.44952022, -13.58904269,  -7.16700818],\n",
       "       [-16.30886916, -13.91524011, -17.1696775 ],\n",
       "       [ -4.91779362,  -2.20379049,  -9.16596192],\n",
       "       [-15.12388545, -14.75589154, -12.21485954],\n",
       "       [ -4.09707705,  -1.16596633,  -8.97775536],\n",
       "       [ -4.23227933,  -4.03364211,  -3.60972958],\n",
       "       [-11.30471624,  -8.87629174, -13.44149438],\n",
       "       [ -3.26967737,  -2.30183429,  -4.41918669],\n",
       "       [-16.42059386, -14.95113312, -15.40420899],\n",
       "       [-10.23217613, -11.22344958,  -5.78098613]])"
      ]
     },
     "execution_count": 16,
     "metadata": {},
     "output_type": "execute_result"
    }
   ],
   "source": [
    "X.dot(Wi_1.T)"
   ]
  },
  {
   "cell_type": "markdown",
   "metadata": {},
   "source": [
    "# Defining the Forward Propagation function "
   ]
  },
  {
   "cell_type": "code",
   "execution_count": 17,
   "metadata": {},
   "outputs": [],
   "source": [
    "def forward_prop(X, Wi_1, Bi_1, Wi_2, Bi_2):\n",
    "    #first layer \n",
    "    M = 1 / (1 + np.exp(-(X.dot(Wi_1.T) + Bi_1)))\n",
    "    # second layer\n",
    "    A = M.dot(Wi_2) + Bi_2\n",
    "    expA = np.exp(A)\n",
    "    Y = expA / expA.sum(axis=1, keepdims=True)\n",
    "    return Y, M"
   ]
  },
  {
   "cell_type": "code",
   "execution_count": 18,
   "metadata": {
    "scrolled": true
   },
   "outputs": [
    {
     "data": {
      "text/plain": [
       "(array([[0.0593992 , 0.9406008 ],\n",
       "        [0.0224092 , 0.9775908 ],\n",
       "        [0.11658334, 0.88341666],\n",
       "        [0.06846609, 0.93153391],\n",
       "        [0.01986266, 0.98013734],\n",
       "        [0.0212579 , 0.9787421 ],\n",
       "        [0.03022944, 0.96977056],\n",
       "        [0.02981578, 0.97018422],\n",
       "        [0.06531458, 0.93468542],\n",
       "        [0.01982791, 0.98017209],\n",
       "        [0.01961408, 0.98038592],\n",
       "        [0.0196088 , 0.9803912 ],\n",
       "        [0.02646237, 0.97353763],\n",
       "        [0.01960881, 0.98039119],\n",
       "        [0.03639762, 0.96360238],\n",
       "        [0.02179034, 0.97820966],\n",
       "        [0.01961816, 0.98038184],\n",
       "        [0.02833843, 0.97166157],\n",
       "        [0.01960876, 0.98039124],\n",
       "        [0.01963179, 0.98036821]]),\n",
       " array([[2.52126580e-01, 4.47395461e-01, 5.12964569e-02],\n",
       "        [2.09620922e-02, 6.67470084e-02, 3.43537910e-03],\n",
       "        [4.51871619e-01, 6.82028225e-01, 8.32307256e-02],\n",
       "        [2.80590541e-01, 5.20732353e-01, 4.29437364e-02],\n",
       "        [2.61740254e-03, 4.32064935e-03, 2.85592744e-03],\n",
       "        [8.31368263e-03, 4.71507675e-02, 5.40967314e-04],\n",
       "        [1.06507775e-01, 1.22935735e-01, 9.30634838e-02],\n",
       "        [9.81676201e-02, 1.45339646e-01, 5.14385217e-02],\n",
       "        [2.09828988e-01, 6.00011392e-01, 8.07309784e-03],\n",
       "        [1.37395605e-03, 6.08225588e-03, 2.41939381e-04],\n",
       "        [6.23301277e-06, 2.89926507e-06, 3.69786118e-04],\n",
       "        [1.31403435e-07, 2.09229317e-06, 1.67497038e-08],\n",
       "        [1.14991326e-02, 2.03299563e-01, 5.01135174e-05],\n",
       "        [4.29772353e-07, 9.02677826e-07, 2.37605347e-06],\n",
       "        [2.57508020e-02, 4.18733657e-01, 6.04905383e-05],\n",
       "        [2.25678262e-02, 3.93297572e-02, 1.28061952e-02],\n",
       "        [1.95827765e-05, 3.22753325e-04, 6.96845011e-07],\n",
       "        [5.70114686e-02, 1.87880408e-01, 5.74082814e-03],\n",
       "        [1.17512834e-07, 7.42575308e-07, 9.78904511e-08],\n",
       "        [5.72342726e-05, 3.08773348e-05, 1.47710370e-03]]))"
      ]
     },
     "execution_count": 18,
     "metadata": {},
     "output_type": "execute_result"
    }
   ],
   "source": [
    "forward_prop(X, Wi_1, Bi_1, Wi_2, Bi_2)"
   ]
  },
  {
   "cell_type": "markdown",
   "metadata": {},
   "source": [
    "# Backpropagation by Differentiating or Gradient Descent"
   ]
  },
  {
   "cell_type": "code",
   "execution_count": 14,
   "metadata": {},
   "outputs": [],
   "source": [
    "#Returns gradient for Weight_2\n",
    "def diff_Wi_2(H, Z, Y):\n",
    "    return H.T.dot(Z - Y)"
   ]
  },
  {
   "cell_type": "code",
   "execution_count": 15,
   "metadata": {},
   "outputs": [],
   "source": [
    "#Returns gradient for Weight_2\n",
    "def diff_Wi_1(X, H, Z, output, Wi_2):\n",
    "    dZ = (Z - output).dot(Wi_2.T) * H * (1 - H)\n",
    "    return X.T.dot(dZ)"
   ]
  },
  {
   "cell_type": "code",
   "execution_count": 16,
   "metadata": {},
   "outputs": [],
   "source": [
    "# Returns derivative for both bias\n",
    "def diff_B2(Z, Y):\n",
    "    return (Z - Y).sum(axis=0)\n",
    "\n",
    "def diff_B1(Z, Y, Wi_2, H):\n",
    "    return ((Z - Y).dot(Wi_2.T) * H * (1 - H)).sum(axis=0)"
   ]
  },
  {
   "cell_type": "code",
   "execution_count": 17,
   "metadata": {},
   "outputs": [],
   "source": [
    "learning_rate = 1e-3\n",
    "for epoch in range(5000):\n",
    "    output, hidden = forward_prop(X, Wi_1, Bi_1, Wi_2, Bi_2)\n",
    "    Wi_2 += learning_rate * diff_Wi_2(hidden, Z, output)\n",
    "    Bi_2 += learning_rate * diff_B2(Z, output)\n",
    "    Wi_1 += learning_rate * diff_Wi_1(X, hidden, Z, output, Wi_2).T\n",
    "    Bi_1 += learning_rate * diff_B1(Z, output, Wi_2, hidden)"
   ]
  },
  {
   "cell_type": "markdown",
   "metadata": {},
   "source": [
    "# Generating Prediction at New Datapoint"
   ]
  },
  {
   "cell_type": "code",
   "execution_count": 19,
   "metadata": {},
   "outputs": [
    {
     "name": "stdout",
     "output_type": "stream",
     "text": [
      " prob of class 0>>>>>>  0.01964844098368276 \n",
      " prob of class 1 >>>>> 0.9803515590163172\n"
     ]
    }
   ],
   "source": [
    "X_test =np.array([5,5])\n",
    "\n",
    "hidden_output = 1 / (1 + np.exp(-X_test.dot(Wi_1.T) - Bi_1))\n",
    "Outer_layer_output = hidden_output.dot(Wi_2) + Bi_2\n",
    "expA = np.exp(Outer_layer_output)\n",
    "Y = expA / expA.sum()\n",
    "print(\" prob of class 0>>>>>>  {} \\n prob of class 1 >>>>> {}\".format(Y[0],Y[1]))"
   ]
  }
 ],
 "metadata": {
  "kernelspec": {
   "display_name": "Python 3 (ipykernel)",
   "language": "python",
   "name": "python3"
  },
  "language_info": {
   "codemirror_mode": {
    "name": "ipython",
    "version": 3
   },
   "file_extension": ".py",
   "mimetype": "text/x-python",
   "name": "python",
   "nbconvert_exporter": "python",
   "pygments_lexer": "ipython3",
   "version": "3.11.5"
  }
 },
 "nbformat": 4,
 "nbformat_minor": 4
}
